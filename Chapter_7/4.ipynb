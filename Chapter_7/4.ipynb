{
 "cells": [
  {
   "cell_type": "markdown",
   "metadata": {},
   "source": [
    "## lab 06-2: TensorFlow로 Fancy Softmax Classification의 구현하기 (new)\n",
    "\n",
    "### Animal classification\n",
    "동물의 특징에 따라 동물이 어떤 종인지 예측"
   ]
  },
  {
   "cell_type": "code",
   "execution_count": 1,
   "metadata": {},
   "outputs": [
    {
     "name": "stderr",
     "output_type": "stream",
     "text": [
      "/anaconda3/lib/python3.6/site-packages/h5py/__init__.py:36: FutureWarning: Conversion of the second argument of issubdtype from `float` to `np.floating` is deprecated. In future, it will be treated as `np.float64 == np.dtype(float).type`.\n",
      "  from ._conv import register_converters as _register_converters\n"
     ]
    }
   ],
   "source": [
    "import tensorflow as tf\n",
    "import numpy as np"
   ]
  },
  {
   "cell_type": "markdown",
   "metadata": {},
   "source": [
    "<br/>\n",
    "\n",
    "### Load data file"
   ]
  },
  {
   "cell_type": "code",
   "execution_count": 2,
   "metadata": {},
   "outputs": [
    {
     "name": "stdout",
     "output_type": "stream",
     "text": [
      "(101, 16) (101, 1)\n"
     ]
    }
   ],
   "source": [
    "# 다양한 특징들을 기반으로 동물의 종을 예측\n",
    "xy = np.loadtxt('data-04-zoo.csv', delimiter=',', dtype=np.float32)\n",
    "x_data = xy[:, 0:-1]\n",
    "y_data = xy[:, [-1]]\n",
    "\n",
    "print(x_data.shape, y_data.shape)"
   ]
  },
  {
   "cell_type": "markdown",
   "metadata": {},
   "source": [
    "<br/>\n",
    "\n",
    "### tf.one_hot and reshape\n",
    "`[[0]. [3]]`의 데이터가 **one hot**과정을 거치게 되면 한 차원들<br/>\n",
    "더해 `[[[1, 0, 0, 0, 0, 0, 0], [0, 0, 0, 1, 0, 0, 0]]]`의 데이터가 된다.<br/>\n",
    "기존의 데이터가 2차원일 경우 3차원의 데이터가 된다.<br/>\n",
    "따라서 `reshape`함수를 사용해 차원을 맞춰준다.<br/>\n",
    "`reshape`후의 데이터는 `[[1, 0, 0, 0, 0, 0, 0], [0, 0, 0, 1, 0, 0, 0]]`이다.<br/>\n",
    "\n",
    "**(?, 1) -> (?, 1, 7) -> (?, 7)**로 `shape`이 변경된다."
   ]
  },
  {
   "cell_type": "code",
   "execution_count": 3,
   "metadata": {},
   "outputs": [
    {
     "name": "stdout",
     "output_type": "stream",
     "text": [
      "one_hot Tensor(\"one_hot:0\", shape=(?, 1, 7), dtype=float32)\n",
      "reshape Tensor(\"Reshape:0\", shape=(?, 7), dtype=float32)\n"
     ]
    }
   ],
   "source": [
    "nb_classes = 7 # 0 ~ 6\n",
    "\n",
    "# 동물의 특징 데이터 16가지\n",
    "X = tf.placeholder(tf.float32, [None, 16])\n",
    "# 동물의 종 7가지\n",
    "Y = tf.placeholder(tf.int32, [None, 1])  # 0 ~ 6, shape=(?, 1)\n",
    "\n",
    "Y_one_hot = tf.one_hot(Y, nb_classes)  # one hot shape=(?, 1, 7)\n",
    "print(\"one_hot\", Y_one_hot)\n",
    "\n",
    "Y_one_hot = tf.reshape(Y_one_hot, [-1, nb_classes]) # shape=(?, 7)\n",
    "print(\"reshape\", Y_one_hot)"
   ]
  },
  {
   "cell_type": "markdown",
   "metadata": {},
   "source": [
    "<br/>\n",
    "\n",
    "### Logits & Hypothesis"
   ]
  },
  {
   "cell_type": "code",
   "execution_count": 4,
   "metadata": {},
   "outputs": [],
   "source": [
    "W = tf.Variable(tf.random_normal([16, nb_classes]), name='weight')\n",
    "b = tf.Variable(tf.random_normal([nb_classes]), name='bias')\n",
    "\n",
    "# tf.nn.softmax함수가 softmax 연산 진행, 아래 식과 동일\n",
    "# softmax = exp(logits) / reduce_sum(exp(logits), dim)\n",
    "logits = tf.matmul(X, W) + b\n",
    "hypothesis = tf.nn.softmax(logits)"
   ]
  },
  {
   "cell_type": "markdown",
   "metadata": {},
   "source": [
    "<br/>\n",
    "\n",
    "### Cross entropy cost / Loss Function"
   ]
  },
  {
   "cell_type": "code",
   "execution_count": 5,
   "metadata": {},
   "outputs": [
    {
     "name": "stdout",
     "output_type": "stream",
     "text": [
      "WARNING:tensorflow:From <ipython-input-5-bc56557890b4>:2: softmax_cross_entropy_with_logits (from tensorflow.python.ops.nn_ops) is deprecated and will be removed in a future version.\n",
      "Instructions for updating:\n",
      "\n",
      "Future major versions of TensorFlow will allow gradients to flow\n",
      "into the labels input on backprop by default.\n",
      "\n",
      "See `tf.nn.softmax_cross_entropy_with_logits_v2`.\n",
      "\n"
     ]
    }
   ],
   "source": [
    "cost_i = tf.nn.softmax_cross_entropy_with_logits(logits=logits,\n",
    "                                                labels=Y_one_hot)\n",
    "cost = tf.reduce_mean(cost_i)\n",
    "optimizer = tf.train.GradientDescentOptimizer(learning_rate=0.1).minimize(cost)"
   ]
  },
  {
   "cell_type": "markdown",
   "metadata": {},
   "source": [
    "<br/>\n",
    "\n",
    "### Training"
   ]
  },
  {
   "cell_type": "code",
   "execution_count": 6,
   "metadata": {},
   "outputs": [
    {
     "name": "stdout",
     "output_type": "stream",
     "text": [
      "Step :     0\tLoss : 7.064\tAcc : 1.98%\n",
      "Step :   100\tLoss : 0.940\tAcc : 83.17%\n",
      "Step :   200\tLoss : 0.515\tAcc : 85.15%\n",
      "Step :   300\tLoss : 0.362\tAcc : 88.12%\n",
      "Step :   400\tLoss : 0.284\tAcc : 92.08%\n",
      "Step :   500\tLoss : 0.233\tAcc : 93.07%\n",
      "Step :   600\tLoss : 0.197\tAcc : 94.06%\n",
      "Step :   700\tLoss : 0.171\tAcc : 95.05%\n",
      "Step :   800\tLoss : 0.150\tAcc : 95.05%\n",
      "Step :   900\tLoss : 0.133\tAcc : 97.03%\n",
      "Step :  1000\tLoss : 0.120\tAcc : 98.02%\n",
      "Step :  1100\tLoss : 0.109\tAcc : 98.02%\n",
      "Step :  1200\tLoss : 0.100\tAcc : 99.01%\n",
      "Step :  1300\tLoss : 0.092\tAcc : 100.00%\n",
      "Step :  1400\tLoss : 0.085\tAcc : 100.00%\n",
      "Step :  1500\tLoss : 0.079\tAcc : 100.00%\n",
      "Step :  1600\tLoss : 0.074\tAcc : 100.00%\n",
      "Step :  1700\tLoss : 0.070\tAcc : 100.00%\n",
      "Step :  1800\tLoss : 0.066\tAcc : 100.00%\n",
      "Step :  1900\tLoss : 0.062\tAcc : 100.00%\n"
     ]
    }
   ],
   "source": [
    "prediction = tf.argmax(hypothesis, 1)\n",
    "correct_prediction = tf.equal(prediction, tf.argmax(Y_one_hot, 1))\n",
    "accuracy = tf.reduce_mean(tf.cast(correct_prediction, tf.float32))\n",
    "\n",
    "# 학습 시작\n",
    "with tf.Session() as sess:\n",
    "    sess.run(tf.global_variables_initializer())\n",
    "    \n",
    "    for step in range(2000):\n",
    "        sess.run(optimizer, feed_dict={X: x_data, Y: y_data})\n",
    "        \n",
    "        if step % 100 == 0:\n",
    "            loss, acc = sess.run([cost, accuracy], feed_dict={\n",
    "                X: x_data,\n",
    "                Y: y_data,\n",
    "            })\n",
    "            \n",
    "            print(\"Step : {:5}\\tLoss : {:.3f}\\tAcc : {:.2%}\"\\\n",
    "                 .format(step, loss, acc))\n",
    "            \n",
    "    # 예츨 결과 확인\n",
    "    pred = sess.run(prediction, feed_dict={X: x_data})"
   ]
  },
  {
   "cell_type": "markdown",
   "metadata": {},
   "source": [
    "<br/>\n",
    "\n",
    "### Check Predictive Results"
   ]
  },
  {
   "cell_type": "code",
   "execution_count": 7,
   "metadata": {},
   "outputs": [
    {
     "name": "stdout",
     "output_type": "stream",
     "text": [
      "[True] Prediction : 0 True Y : 0\n",
      "[True] Prediction : 0 True Y : 0\n",
      "[True] Prediction : 3 True Y : 3\n",
      "[True] Prediction : 0 True Y : 0\n",
      "[True] Prediction : 0 True Y : 0\n",
      "[True] Prediction : 0 True Y : 0\n",
      "[True] Prediction : 0 True Y : 0\n",
      "[True] Prediction : 3 True Y : 3\n",
      "[True] Prediction : 3 True Y : 3\n",
      "[True] Prediction : 0 True Y : 0\n",
      "[True] Prediction : 0 True Y : 0\n",
      "[True] Prediction : 1 True Y : 1\n",
      "[True] Prediction : 3 True Y : 3\n",
      "[True] Prediction : 6 True Y : 6\n",
      "[True] Prediction : 6 True Y : 6\n",
      "[True] Prediction : 6 True Y : 6\n",
      "[True] Prediction : 1 True Y : 1\n",
      "[True] Prediction : 0 True Y : 0\n",
      "[True] Prediction : 3 True Y : 3\n",
      "[True] Prediction : 0 True Y : 0\n",
      "[True] Prediction : 1 True Y : 1\n",
      "[True] Prediction : 1 True Y : 1\n",
      "[True] Prediction : 0 True Y : 0\n",
      "[True] Prediction : 1 True Y : 1\n",
      "[True] Prediction : 5 True Y : 5\n",
      "[True] Prediction : 4 True Y : 4\n",
      "[True] Prediction : 4 True Y : 4\n",
      "[True] Prediction : 0 True Y : 0\n",
      "[True] Prediction : 0 True Y : 0\n",
      "[True] Prediction : 0 True Y : 0\n",
      "[True] Prediction : 5 True Y : 5\n",
      "[True] Prediction : 0 True Y : 0\n",
      "[True] Prediction : 0 True Y : 0\n",
      "[True] Prediction : 1 True Y : 1\n",
      "[True] Prediction : 3 True Y : 3\n",
      "[True] Prediction : 0 True Y : 0\n",
      "[True] Prediction : 0 True Y : 0\n",
      "[True] Prediction : 1 True Y : 1\n",
      "[True] Prediction : 3 True Y : 3\n",
      "[True] Prediction : 5 True Y : 5\n",
      "[True] Prediction : 5 True Y : 5\n",
      "[True] Prediction : 1 True Y : 1\n",
      "[True] Prediction : 5 True Y : 5\n",
      "[True] Prediction : 1 True Y : 1\n",
      "[True] Prediction : 0 True Y : 0\n",
      "[True] Prediction : 0 True Y : 0\n",
      "[True] Prediction : 6 True Y : 6\n",
      "[True] Prediction : 0 True Y : 0\n",
      "[True] Prediction : 0 True Y : 0\n",
      "[True] Prediction : 0 True Y : 0\n",
      "[True] Prediction : 0 True Y : 0\n",
      "[True] Prediction : 5 True Y : 5\n",
      "[True] Prediction : 4 True Y : 4\n",
      "[True] Prediction : 6 True Y : 6\n",
      "[True] Prediction : 0 True Y : 0\n",
      "[True] Prediction : 0 True Y : 0\n",
      "[True] Prediction : 1 True Y : 1\n",
      "[True] Prediction : 1 True Y : 1\n",
      "[True] Prediction : 1 True Y : 1\n",
      "[True] Prediction : 1 True Y : 1\n",
      "[True] Prediction : 3 True Y : 3\n",
      "[True] Prediction : 3 True Y : 3\n",
      "[True] Prediction : 2 True Y : 2\n",
      "[True] Prediction : 0 True Y : 0\n",
      "[True] Prediction : 0 True Y : 0\n",
      "[True] Prediction : 0 True Y : 0\n",
      "[True] Prediction : 0 True Y : 0\n",
      "[True] Prediction : 0 True Y : 0\n",
      "[True] Prediction : 0 True Y : 0\n",
      "[True] Prediction : 0 True Y : 0\n",
      "[True] Prediction : 0 True Y : 0\n",
      "[True] Prediction : 1 True Y : 1\n",
      "[True] Prediction : 6 True Y : 6\n",
      "[True] Prediction : 3 True Y : 3\n",
      "[True] Prediction : 0 True Y : 0\n",
      "[True] Prediction : 0 True Y : 0\n",
      "[True] Prediction : 2 True Y : 2\n",
      "[True] Prediction : 6 True Y : 6\n",
      "[True] Prediction : 1 True Y : 1\n",
      "[True] Prediction : 1 True Y : 1\n",
      "[True] Prediction : 2 True Y : 2\n",
      "[True] Prediction : 6 True Y : 6\n",
      "[True] Prediction : 3 True Y : 3\n",
      "[True] Prediction : 1 True Y : 1\n",
      "[True] Prediction : 0 True Y : 0\n",
      "[True] Prediction : 6 True Y : 6\n",
      "[True] Prediction : 3 True Y : 3\n",
      "[True] Prediction : 1 True Y : 1\n",
      "[True] Prediction : 5 True Y : 5\n",
      "[True] Prediction : 4 True Y : 4\n",
      "[True] Prediction : 2 True Y : 2\n",
      "[True] Prediction : 2 True Y : 2\n",
      "[True] Prediction : 3 True Y : 3\n",
      "[True] Prediction : 0 True Y : 0\n",
      "[True] Prediction : 0 True Y : 0\n",
      "[True] Prediction : 1 True Y : 1\n",
      "[True] Prediction : 0 True Y : 0\n",
      "[True] Prediction : 5 True Y : 5\n",
      "[True] Prediction : 0 True Y : 0\n",
      "[True] Prediction : 6 True Y : 6\n",
      "[True] Prediction : 1 True Y : 1\n"
     ]
    }
   ],
   "source": [
    "# y_data: (N,1) = flatten => (N, ) matches pred.shape\n",
    "for p, y in zip(pred, y_data.flatten()):\n",
    "        print(\"[{}] Prediction : {} True Y : {}\".format(p == int(y), p, int(y)))"
   ]
  }
 ],
 "metadata": {
  "kernelspec": {
   "display_name": "Python 3",
   "language": "python",
   "name": "python3"
  },
  "language_info": {
   "codemirror_mode": {
    "name": "ipython",
    "version": 3
   },
   "file_extension": ".py",
   "mimetype": "text/x-python",
   "name": "python",
   "nbconvert_exporter": "python",
   "pygments_lexer": "ipython3",
   "version": "3.6.5"
  },
  "latex_envs": {
   "LaTeX_envs_menu_present": true,
   "autoclose": false,
   "autocomplete": true,
   "bibliofile": "biblio.bib",
   "cite_by": "apalike",
   "current_citInitial": 1,
   "eqLabelWithNumbers": true,
   "eqNumInitial": 1,
   "hotkeys": {
    "equation": "Ctrl-E",
    "itemize": "Ctrl-I"
   },
   "labels_anchors": false,
   "latex_user_defs": false,
   "report_style_numbering": false,
   "user_envs_cfg": false
  },
  "varInspector": {
   "cols": {
    "lenName": 16,
    "lenType": 16,
    "lenVar": 40
   },
   "kernels_config": {
    "python": {
     "delete_cmd_postfix": "",
     "delete_cmd_prefix": "del ",
     "library": "var_list.py",
     "varRefreshCmd": "print(var_dic_list())"
    },
    "r": {
     "delete_cmd_postfix": ") ",
     "delete_cmd_prefix": "rm(",
     "library": "var_list.r",
     "varRefreshCmd": "cat(var_dic_list()) "
    }
   },
   "types_to_exclude": [
    "module",
    "function",
    "builtin_function_or_method",
    "instance",
    "_Feature"
   ],
   "window_display": false
  }
 },
 "nbformat": 4,
 "nbformat_minor": 2
}
