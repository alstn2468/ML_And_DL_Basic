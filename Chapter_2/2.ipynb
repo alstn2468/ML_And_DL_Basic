{
 "cells": [
  {
   "cell_type": "markdown",
   "metadata": {},
   "source": [
    "## TensorFlow의 설치및 기본적인 operations (new)\n",
    "\n",
    "### TensorFlow란\n",
    "- **Data flow graphs**를 사용해서 **numerical** 계산을 할 수 있는 라이브러리\n",
    "- **Python**으로 구현 가능\n",
    "\n",
    "<br/>\n",
    "\n",
    "### Data Flow Graph란\n",
    "- 하나의 **노드**는 **연산자**로 구성\n",
    "- **간선**은 데이터 배열(**tensors**)로 구성\n",
    "\n",
    "<br/>\n",
    "\n",
    "### TensorFlow 설치하기\n",
    "- Linux, Max OSX, Windows\n",
    "    + (sudo -H) pip install --upgrade tensorflow\n",
    "    + (sudo -H) pip install --upgrade tensorflow-gpu\n",
    "    \n",
    "<br/>\n",
    "\n",
    "### TensorFlow 설치 및 버전 확인하기"
   ]
  },
  {
   "cell_type": "code",
   "execution_count": 1,
   "metadata": {},
   "outputs": [
    {
     "name": "stderr",
     "output_type": "stream",
     "text": [
      "/anaconda3/lib/python3.6/site-packages/h5py/__init__.py:36: FutureWarning: Conversion of the second argument of issubdtype from `float` to `np.floating` is deprecated. In future, it will be treated as `np.float64 == np.dtype(float).type`.\n",
      "  from ._conv import register_converters as _register_converters\n"
     ]
    },
    {
     "data": {
      "text/plain": [
       "'1.12.0'"
      ]
     },
     "execution_count": 1,
     "metadata": {},
     "output_type": "execute_result"
    }
   ],
   "source": [
    "import tensorflow as tf\n",
    "\n",
    "tf.__version__"
   ]
  },
  {
   "cell_type": "markdown",
   "metadata": {},
   "source": [
    "<br/>\n",
    "\n",
    "### TensorFlow Hello World!\n",
    "- b'String'의 `'b'`는 **바이트 문자**를 나타낸다.\n",
    "- 노드를 생성한 후 세션을 만들고 세션에 노드를 실행"
   ]
  },
  {
   "cell_type": "code",
   "execution_count": 2,
   "metadata": {},
   "outputs": [
    {
     "name": "stdout",
     "output_type": "stream",
     "text": [
      "b'Hello, TensorFlow!'\n"
     ]
    }
   ],
   "source": [
    "# Create a constant op\n",
    "# This op is added as a node to the default graph\n",
    "hello = tf.constant(\"Hello, TensorFlow!\")\n",
    "\n",
    "# Seart a TF session\n",
    "sess = tf.Session()\n",
    "\n",
    "# Run the op and get result\n",
    "print(sess.run(hello))"
   ]
  },
  {
   "cell_type": "markdown",
   "metadata": {},
   "source": [
    "<br/>\n",
    "\n",
    "### Computational Graph"
   ]
  },
  {
   "cell_type": "code",
   "execution_count": 3,
   "metadata": {},
   "outputs": [],
   "source": [
    "node1 = tf.constant(3.0, tf.float32)\n",
    "node2 = tf.constant(4.0) # 명시적으로 tf.float32형\n",
    "node3 = tf.add(node1, node2) # node3 = node1 + node2"
   ]
  },
  {
   "cell_type": "markdown",
   "metadata": {},
   "source": [
    "#### 그냥 노드를 출력할 경우\n",
    "- 결과 값이 출력되지 않는다."
   ]
  },
  {
   "cell_type": "code",
   "execution_count": 4,
   "metadata": {
    "scrolled": true
   },
   "outputs": [
    {
     "name": "stdout",
     "output_type": "stream",
     "text": [
      "node1 :  Tensor(\"Const_1:0\", shape=(), dtype=float32) node2 :  Tensor(\"Const_2:0\", shape=(), dtype=float32)\n",
      "node3 :  Tensor(\"Add:0\", shape=(), dtype=float32)\n"
     ]
    }
   ],
   "source": [
    "print(\"node1 : \", node1, \"node2 : \", node2)\n",
    "print(\"node3 : \", node3)"
   ]
  },
  {
   "cell_type": "markdown",
   "metadata": {},
   "source": [
    "#### 해결 방법\n",
    "- Session을 생성하여 run해야한다."
   ]
  },
  {
   "cell_type": "code",
   "execution_count": 5,
   "metadata": {},
   "outputs": [
    {
     "name": "stdout",
     "output_type": "stream",
     "text": [
      "sess.run(node1, node2) :  [3.0, 4.0]\n",
      "sess.run(node3) :  7.0\n"
     ]
    }
   ],
   "source": [
    "sess = tf.Session()\n",
    "print(\"sess.run(node1, node2) : \", sess.run([node1, node2]))\n",
    "print(\"sess.run(node3) : \", sess.run(node3))"
   ]
  },
  {
   "cell_type": "markdown",
   "metadata": {},
   "source": [
    "<br/>\n",
    "\n",
    "### TensorFlow의 Mechanics\n",
    "1. TensorFlow 연산자를 사용해 **Graph를 생성**\n",
    "2. `sess.run(op)`를 사용해 그래프 실행\n",
    "3. 그래프 변수값 업데이트 및 반환\n",
    "\n",
    "<br/>\n",
    "\n",
    "### 예제\n",
    "1. TensorFlow 연산자를 사용해 **Graph를 생성**"
   ]
  },
  {
   "cell_type": "code",
   "execution_count": 6,
   "metadata": {},
   "outputs": [],
   "source": [
    "node1 = tf.constant(3.0, tf.float32)\n",
    "node2 = tf.constant(4.0)\n",
    "node3 = tf.add(node1, node2)"
   ]
  },
  {
   "cell_type": "markdown",
   "metadata": {},
   "source": [
    "2. `sess.run(op)`를 사용해 그래프 실행\n",
    "3. 그래프 변수값 업데이트 및 반환"
   ]
  },
  {
   "cell_type": "code",
   "execution_count": 7,
   "metadata": {},
   "outputs": [
    {
     "name": "stdout",
     "output_type": "stream",
     "text": [
      "sess.run(node1, node2) :  [3.0, 4.0]\n",
      "sess.run(node3) :  7.0\n"
     ]
    }
   ],
   "source": [
    "sess = tf.Session()\n",
    "print(\"sess.run(node1, node2) : \", sess.run([node1, node2]))\n",
    "print(\"sess.run(node3) : \", sess.run(node3))"
   ]
  },
  {
   "cell_type": "markdown",
   "metadata": {},
   "source": [
    "<br/>\n",
    "\n",
    "### Placeholder\n",
    "- 데이터 값을 모를 때 사용 가능"
   ]
  },
  {
   "cell_type": "code",
   "execution_count": 8,
   "metadata": {},
   "outputs": [
    {
     "name": "stdout",
     "output_type": "stream",
     "text": [
      "7.5\n",
      "[3. 7.]\n"
     ]
    }
   ],
   "source": [
    "a = tf.placeholder(tf.float32)\n",
    "b = tf.placeholder(tf.float32)\n",
    "adder_node = a + b\n",
    "\n",
    "print(sess.run(adder_node, feed_dict={a: 3, b: 4.5}))\n",
    "print(sess.run(adder_node, feed_dict={a: [1, 3], b: [2, 4]}))"
   ]
  },
  {
   "cell_type": "markdown",
   "metadata": {},
   "source": [
    "<br/>\n",
    "\n",
    "### Tensor의 모든것\n",
    "- Rank : 차원"
   ]
  },
  {
   "cell_type": "code",
   "execution_count": 9,
   "metadata": {},
   "outputs": [
    {
     "data": {
      "text/plain": [
       "[[[1.0, 2.0, 3.0]], [[7.0, 8.0, 9.0]]]"
      ]
     },
     "execution_count": 9,
     "metadata": {},
     "output_type": "execute_result"
    }
   ],
   "source": [
    "# a rank 0 tensor\n",
    "# This is a scalar with shape []\n",
    "3\n",
    "\n",
    "# a rank 1 tensor\n",
    "# This is a vector with shape [3]\n",
    "[1., 2., 3.]\n",
    "\n",
    "# a rank 2 tensor\n",
    "# This is a matrix with shape [2, 3]\n",
    "[[1., 2., 3.], [4., 5., 6.]]\n",
    "\n",
    "# a rank 3 tensor with shape [2, 1, 3]\n",
    "[[[1., 2., 3.]], [[7., 8., 9.]]]"
   ]
  },
  {
   "cell_type": "markdown",
   "metadata": {},
   "source": [
    "### Rank\n",
    "\n",
    "| Rank | Math entity            | Python example |\n",
    "|   -  |      -                 | -              |\n",
    "|0     |Scalar (magnitude only) | s = 483        |\n",
    "|1     |Vector (magnitude and direction) | v = [1.1, 2.2, 3.3]|\n",
    "|2     |Matrix (table of numbers) | m = [[1, 2, 3], [4, 5, 6], [7, 8, 9]]|\n",
    "|3| 3-Tensor (cube of numbers | t = [[[2], [4], [6]], [[8], [10], [12]], [[14], [16], [18]]]\n",
    "|n| n-Tensor|...|\n",
    "\n",
    "<br/>\n",
    "\n",
    "### Shape\n",
    "\n",
    "|Rank|Shape|Dimension number|Example|\n",
    "|-|-|-|-|\n",
    "|0|[]|0-D|A 0-D tensor. A scalar.|\n",
    "|1|[D0]|1-D|A 1-D tensor with shape [5].|\n",
    "|2|[D0, D1]|2-D|A 2-D tensor with shape [3, 4].|\n",
    "|3|[D0, D1, D2]|3-D|A 3-D tensor with shape [1, 4, 3].|\n",
    "|n|[D0, D1, ..., Dn-1]|n-D|A tensor with shape [D0, D1, ..., Dn-1].|\n",
    "\n",
    "<br/>\n",
    "\n",
    "### Types\n",
    "|Data type|Python type|Description|\n",
    "|-|-|-|\n",
    "|DT_FLOAT|tf.float32|32 bits floating point.|\n",
    "|DT_DOUBLE|tf.float64|64 bits floating point.|\n",
    "|DT_INT8|tf.int8|8 bits signed integer.|\n",
    "|DT_INT16|tf.int16|16 bits signed integer.|\n",
    "|DT_INT32|tf.int32|32 bits signed integer.|\n",
    "|DT_INT64|tf.int64|64 bits signed integer.|"
   ]
  }
 ],
 "metadata": {
  "kernelspec": {
   "display_name": "Python 3",
   "language": "python",
   "name": "python3"
  },
  "language_info": {
   "codemirror_mode": {
    "name": "ipython",
    "version": 3
   },
   "file_extension": ".py",
   "mimetype": "text/x-python",
   "name": "python",
   "nbconvert_exporter": "python",
   "pygments_lexer": "ipython3",
   "version": "3.6.5"
  }
 },
 "nbformat": 4,
 "nbformat_minor": 2
}
