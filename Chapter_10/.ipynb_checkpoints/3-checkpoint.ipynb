{
 "cells": [
  {
   "cell_type": "markdown",
   "metadata": {},
   "source": [
    "## 딥넷트웍 학습 시키기 (backpropagation)\n",
    "\n",
    "###  Neural Network (NN)\n",
    "두개의 유닛의 **Weight**과 **Bias**를 학습시키는 방법<br/>\n",
    "**Gradient descent**알고리즘을 사용<br/>\n",
    "정의된 **Cost**함수의 그래프에서 하나의 점에서<br/>\n",
    "값을 **미분해 기울기**를 구하며 그래프의 **최저점**까지 내려가면서 값을 구한다.\n",
    "\n",
    "<br/>\n",
    "\n",
    "### Back propagation\n",
    "예측값과 실제값을 비교해 **Cost**값을 뒤에서 부터<br/>\n",
    "앞으로 이동하면서 **미분값**과 **어떤 값**을 **조정**해야하는지 계산하는 알고리즘\n",
    "\n",
    "#### Back Propagation (Chain rule)\n",
    "\\begin{align} f = wx + b, g = wx, f = g + b \\end{align}\n",
    "위의 식을 그림으로 표현하면 아래와 같다.<br/>\n",
    "\n",
    "<img src=\"./6.png\" width=\"500\" height=\"auto\" alt=\"아직 안만듬\">\n",
    "<br/>\n",
    "\n",
    "1. forward ($$w = -2, x = 5, b = 3$$)\n",
    "\n",
    "<img src=\"./7.png\" width=\"500\" height=\"auto\" alt=\"아직 안만듬\">\n",
    "\n",
    "$$ \n",
    "g = wx \\rightarrow \\frac{\\partial g}{\\partial w} = x,\n",
    "\\frac{\\partial g}{\\partial x} = w\n",
    "$$\n",
    "\n",
    "$$\n",
    "f = g + b \\rightarrow \\frac{\\partial f}{\\partial g} = 1,\n",
    "\\frac{\\partial f}{\\partial b} = 1\n",
    "$$\n",
    "\n",
    "\\begin{align}\n",
    "\\frac{\\partial f}{\\partial w} =\n",
    "\\frac{\\partial f}{\\partial g} *\n",
    "\\frac{\\partial g}{\\partial w} =\n",
    "1 * x = 5\n",
    "\\end{align}\n",
    "\n",
    "\\begin{align}\n",
    "\\frac{\\partial f}{\\partial x} =\n",
    "\\frac{\\partial f}{\\partial g} *\n",
    "\\frac{\\partial g}{\\partial x} =\n",
    "1 * w = -2\n",
    "\\end{align}\n",
    "\n",
    "2. backward"
   ]
  },
  {
   "cell_type": "code",
   "execution_count": null,
   "metadata": {},
   "outputs": [],
   "source": []
  }
 ],
 "metadata": {
  "kernelspec": {
   "display_name": "Python 3",
   "language": "python",
   "name": "python3"
  },
  "language_info": {
   "codemirror_mode": {
    "name": "ipython",
    "version": 3
   },
   "file_extension": ".py",
   "mimetype": "text/x-python",
   "name": "python",
   "nbconvert_exporter": "python",
   "pygments_lexer": "ipython3",
   "version": "3.6.8"
  },
  "latex_envs": {
   "LaTeX_envs_menu_present": true,
   "autoclose": false,
   "autocomplete": true,
   "bibliofile": "biblio.bib",
   "cite_by": "apalike",
   "current_citInitial": 1,
   "eqLabelWithNumbers": true,
   "eqNumInitial": 1,
   "hotkeys": {
    "equation": "Ctrl-E",
    "itemize": "Ctrl-I"
   },
   "labels_anchors": false,
   "latex_user_defs": false,
   "report_style_numbering": false,
   "user_envs_cfg": false
  },
  "varInspector": {
   "cols": {
    "lenName": 16,
    "lenType": 16,
    "lenVar": 40
   },
   "kernels_config": {
    "python": {
     "delete_cmd_postfix": "",
     "delete_cmd_prefix": "del ",
     "library": "var_list.py",
     "varRefreshCmd": "print(var_dic_list())"
    },
    "r": {
     "delete_cmd_postfix": ") ",
     "delete_cmd_prefix": "rm(",
     "library": "var_list.r",
     "varRefreshCmd": "cat(var_dic_list()) "
    }
   },
   "types_to_exclude": [
    "module",
    "function",
    "builtin_function_or_method",
    "instance",
    "_Feature"
   ],
   "window_display": false
  }
 },
 "nbformat": 4,
 "nbformat_minor": 2
}
