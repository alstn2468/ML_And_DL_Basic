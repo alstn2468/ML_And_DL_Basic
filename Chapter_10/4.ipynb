{
 "cells": [
  {
   "cell_type": "markdown",
   "metadata": {},
   "source": [
    "## Lab 9-1 : XOR을 위한 텐스플로우 딥넷트웍"
   ]
  },
  {
   "cell_type": "code",
   "execution_count": 1,
   "metadata": {},
   "outputs": [
    {
     "name": "stderr",
     "output_type": "stream",
     "text": [
      "/anaconda3/lib/python3.6/site-packages/h5py/__init__.py:36: FutureWarning: Conversion of the second argument of issubdtype from `float` to `np.floating` is deprecated. In future, it will be treated as `np.float64 == np.dtype(float).type`.\n",
      "  from ._conv import register_converters as _register_converters\n"
     ]
    }
   ],
   "source": [
    "import tensorflow as tf\n",
    "import numpy as np"
   ]
  },
  {
   "cell_type": "markdown",
   "metadata": {},
   "source": [
    "### XOR data set\n",
    "\n",
    "| A | B | X |\n",
    "| - | - | - |\n",
    "| 0 | 0 | 0 |\n",
    "| 0 | 1 | 1 |\n",
    "| 1 | 0 | 1 |\n",
    "| 1 | 1 | 0 |\n",
    "\n",
    "#### Boolean Expression\n",
    "$$\n",
    "X = A \\oplus B\n",
    "$$\n",
    "\n",
    "#### Logic Diagram Symbol\n",
    "\n",
    "<img src=\"./10.png\" width=\"400\" height=\"auto\" alt=\"아직 안만듬\">\n",
    "\n",
    "[[이미지 출처]](https://mathphysics.tistory.com/579)\n",
    "\n",
    "간단한 데이터셋이므로 따로 입력받지않고 **numpy array** 사용"
   ]
  },
  {
   "cell_type": "code",
   "execution_count": 2,
   "metadata": {},
   "outputs": [],
   "source": [
    "x_data = np.array(\n",
    "    [\n",
    "        [0, 0],\n",
    "        [0, 1],\n",
    "        [1, 0],\n",
    "        [1, 1],\n",
    "    ],\n",
    "    dtype=np.float32\n",
    ")\n",
    "y_data = np.array(\n",
    "    [\n",
    "        [0],\n",
    "        [1],\n",
    "        [1],\n",
    "        [0],\n",
    "    ],\n",
    "    dtype=np.float32\n",
    ")"
   ]
  },
  {
   "cell_type": "markdown",
   "metadata": {},
   "source": [
    "<br/>\n",
    "\n",
    "### Logistic Regression으로 해결하기\n",
    "**0**인지 **1**인지 예측하는 **Logistic Regression**사용<br/>\n",
    "$$X$$, $$Y$$에 맞게 **Weight**과 **Bias**를 결정해야한다.<br/>\n",
    "**Weigth**을 정할때에는 **크기**가 **중요**하다.<br/>\n",
    "입력값이 $$X_1$$, $$X_2$$로 2개고 출력값이 $$Y$$하나이기 때문에<br/>\n",
    "**Weight**의 크기는 **[2, 1]**의 크기다.<br/>\n",
    "**Bias**는 항상 **출력값의 갯수**와 같으므로 **[1]**이다."
   ]
  },
  {
   "cell_type": "code",
   "execution_count": 3,
   "metadata": {},
   "outputs": [],
   "source": [
    "X = tf.placeholder(tf.float32)\n",
    "Y = tf.placeholder(tf.float32)\n",
    "W = tf.Variable(tf.random_normal([2, 1]), name='weight')\n",
    "b = tf.Variable(tf.random_normal([1]), name=\"bias\")"
   ]
  },
  {
   "cell_type": "markdown",
   "metadata": {},
   "source": [
    "<br/>\n",
    "\n",
    "### Hypothesis\n",
    "**Sigmoid** 함수 사용<br/>\n",
    "$$ Sigmoid = \\frac{1}{1+e^{-x}}$$\n",
    "\n",
    "**행렬 곱셉**을 사용한다."
   ]
  },
  {
   "cell_type": "code",
   "execution_count": 4,
   "metadata": {},
   "outputs": [],
   "source": [
    "hypothesis = tf.sigmoid(tf.matmul(X, W) + b)"
   ]
  },
  {
   "cell_type": "markdown",
   "metadata": {},
   "source": [
    "<br/>\n",
    "\n",
    "### Cost Function\n",
    "**Logistic Regression**의 **Cost Function**은 아래와 같다.<br/>\n",
    "$$\n",
    "C(H(x), y) = \n",
    "- Y * log(H(x)\n",
    "- (1 - Y) * log(1 - H(X))\n",
    "$$\n",
    "\n",
    "구해진 Cost를 가지고 **경사하강법**을 사용해 학습을 진행한다."
   ]
  },
  {
   "cell_type": "code",
   "execution_count": 5,
   "metadata": {},
   "outputs": [],
   "source": [
    "cost = -tf.reduce_mean(Y * tf.log(hypothesis)\n",
    "                      + (1 - Y) * tf.log(1 - hypothesis))\n",
    "train = tf.train.GradientDescentOptimizer(learning_rate=0.01).minimize(cost)"
   ]
  },
  {
   "cell_type": "markdown",
   "metadata": {},
   "source": [
    "<br/>\n",
    "\n",
    "### Training\n",
    "위에 작성한 **Hypothesis**와 **Cost Function**을 사용해 학습을 진행<br/>\n",
    "`cast`함수를 사용해 **Hypothesis**의 값이 **0.5**보다 클경우 **True**로<br/>\n",
    "**0.5**보다 작을경우 **False**로 값을 바꾸어준다.<br/>\n",
    "또한 예측값과 결과값을 비교해 `cast`함수를 사용한 결과의 평균을 구해"
   ]
  },
  {
   "cell_type": "code",
   "execution_count": 6,
   "metadata": {},
   "outputs": [
    {
     "name": "stdout",
     "output_type": "stream",
     "text": [
      "0 0.7531501 [[-0.7257929]\n",
      " [-0.9959548]]\n",
      "1000 0.72031176 [[-0.56429285]\n",
      " [-0.7098626 ]]\n",
      "2000 0.70586157 [[-0.3969825 ]\n",
      " [-0.47502416]]\n",
      "3000 0.69901526 [[-0.27513653]\n",
      " [-0.3169331 ]]\n",
      "4000 0.6958375 [[-0.18924381]\n",
      " [-0.21161896]]\n",
      "5000 0.694377 [[-0.12953913]\n",
      " [-0.14151494]]\n",
      "6000 0.69370866 [[-0.08838086]\n",
      " [-0.09479028]]\n",
      "7000 0.69340336 [[-0.06015909]\n",
      " [-0.0635892 ]]\n",
      "8000 0.6932641 [[-0.04087842]\n",
      " [-0.0427141 ]]\n",
      "9000 0.69320047 [[-0.02774075]\n",
      " [-0.02872313]]\n",
      "10000 0.6931715 [[-0.01880636]\n",
      " [-0.01933207]]\n",
      "\n",
      "Hypothesis:  [[0.50565445]\n",
      " [0.5008217 ]\n",
      " [0.5009531 ]\n",
      " [0.49612015]] \n",
      "Correct:  [[1.]\n",
      " [1.]\n",
      " [1.]\n",
      " [0.]] \n",
      "Accuracy:  0.75\n"
     ]
    }
   ],
   "source": [
    "predicted = tf.cast(hypothesis > 0.5, dtype=tf.float32)\n",
    "accuracy = tf.reduce_mean(tf.cast(tf.equal(predicted, Y), dtype=tf.float32))\n",
    "\n",
    "with tf.Session() as sess:\n",
    "    sess.run(tf.global_variables_initializer())\n",
    "    \n",
    "    for step in range(10001):\n",
    "        _, cost_val, w_val = sess.run(\n",
    "            [train, cost, W], feed_dict={X: x_data, Y: y_data}\n",
    "        )\n",
    "\n",
    "        if step % 1000 == 0:\n",
    "            print(step, cost_val, w_val)\n",
    "            \n",
    "    h, c, a = sess.run(\n",
    "        [hypothesis, predicted, accuracy], feed_dict={X: x_data, Y: y_data}\n",
    "    )\n",
    "    \n",
    "    print(\"\\nHypothesis: \", h, \"\\nCorrect: \", c, \"\\nAccuracy: \", a)"
   ]
  },
  {
   "cell_type": "code",
   "execution_count": null,
   "metadata": {},
   "outputs": [],
   "source": []
  }
 ],
 "metadata": {
  "kernelspec": {
   "display_name": "Python 3",
   "language": "python",
   "name": "python3"
  },
  "language_info": {
   "codemirror_mode": {
    "name": "ipython",
    "version": 3
   },
   "file_extension": ".py",
   "mimetype": "text/x-python",
   "name": "python",
   "nbconvert_exporter": "python",
   "pygments_lexer": "ipython3",
   "version": "3.6.8"
  },
  "latex_envs": {
   "LaTeX_envs_menu_present": true,
   "autoclose": false,
   "autocomplete": true,
   "bibliofile": "biblio.bib",
   "cite_by": "apalike",
   "current_citInitial": 1,
   "eqLabelWithNumbers": true,
   "eqNumInitial": 1,
   "hotkeys": {
    "equation": "Ctrl-E",
    "itemize": "Ctrl-I"
   },
   "labels_anchors": false,
   "latex_user_defs": false,
   "report_style_numbering": false,
   "user_envs_cfg": false
  },
  "varInspector": {
   "cols": {
    "lenName": 16,
    "lenType": 16,
    "lenVar": 40
   },
   "kernels_config": {
    "python": {
     "delete_cmd_postfix": "",
     "delete_cmd_prefix": "del ",
     "library": "var_list.py",
     "varRefreshCmd": "print(var_dic_list())"
    },
    "r": {
     "delete_cmd_postfix": ") ",
     "delete_cmd_prefix": "rm(",
     "library": "var_list.r",
     "varRefreshCmd": "cat(var_dic_list()) "
    }
   },
   "types_to_exclude": [
    "module",
    "function",
    "builtin_function_or_method",
    "instance",
    "_Feature"
   ],
   "window_display": false
  }
 },
 "nbformat": 4,
 "nbformat_minor": 2
}
